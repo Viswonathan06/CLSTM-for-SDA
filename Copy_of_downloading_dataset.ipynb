{
  "nbformat": 4,
  "nbformat_minor": 0,
  "metadata": {
    "colab": {
      "name": "Copy of downloading_dataset.ipynb",
      "provenance": [],
      "collapsed_sections": [],
      "toc_visible": true,
      "include_colab_link": true
    },
    "kernelspec": {
      "name": "python3",
      "display_name": "Python 3"
    }
  },
  "cells": [
    {
      "cell_type": "markdown",
      "metadata": {
        "id": "view-in-github",
        "colab_type": "text"
      },
      "source": [
        "<a href=\"https://colab.research.google.com/github/Viswonathan06/CLSTM-for-SDA/blob/main/Copy_of_downloading_dataset.ipynb\" target=\"_parent\"><img src=\"https://colab.research.google.com/assets/colab-badge.svg\" alt=\"Open In Colab\"/></a>"
      ]
    },
    {
      "cell_type": "markdown",
      "metadata": {
        "id": "XO7pxJygnHDs"
      },
      "source": [
        "#Importing required libraries\n",
        "Note: I was doing this in the google colab notebook.So mounted by google drive.In case if you are doing this in your local machine, the respective directories are to be changed accordingly"
      ]
    },
    {
      "cell_type": "code",
      "metadata": {
        "id": "vlGvpRkghrR4"
      },
      "source": [
        "from google.colab import drive\n",
        "import requests"
      ],
      "execution_count": 2,
      "outputs": []
    },
    {
      "cell_type": "code",
      "metadata": {
        "id": "UWPcSoRDnPBe",
        "colab": {
          "base_uri": "https://localhost:8080/"
        },
        "outputId": "11b697ef-0b40-4e90-94bf-c3a56b122bbb"
      },
      "source": [
        "drive.mount('/content/gdrive')"
      ],
      "execution_count": 3,
      "outputs": [
        {
          "output_type": "stream",
          "text": [
            "Mounted at /content/gdrive\n"
          ],
          "name": "stdout"
        }
      ]
    },
    {
      "cell_type": "markdown",
      "metadata": {
        "id": "ObAHO14Fn9br"
      },
      "source": [
        "This below code will download the dataset from URL that was pasted at 'file_url'"
      ]
    },
    {
      "cell_type": "code",
      "metadata": {
        "id": "HufozgX1hwMq"
      },
      "source": [
        "#paste the url here\n",
        "file_url = \"https://s3.eu-central-1.amazonaws.com/avg-kitti/raw_data/2011_09_26_drive_0001/2011_09_26_drive_0001_sync.zip\"\n",
        "\n",
        "r = requests.get(file_url, stream = True)  \n",
        "  \n",
        "#change this according ur file extension\n",
        "with open(\"/content/gdrive/My Drive/2011_09_26_drive_0001_sync.zip\", \"wb\") as file:  \n",
        "    for block in r.iter_content(chunk_size = 1024): \n",
        "         if block:  \n",
        "             file.write(block)"
      ],
      "execution_count": 5,
      "outputs": []
    },
    {
      "cell_type": "code",
      "metadata": {
        "id": "bkxO3PIgF30Q",
        "colab": {
          "base_uri": "https://localhost:8080/",
          "height": 538
        },
        "outputId": "5d68fbb7-6a0e-4749-9a75-42ebf6e87dc2"
      },
      "source": [
        "!apt-get install -y -qq software-properties-common python-software-properties module-init-tools\n",
        "!add-apt-repository -y ppa:alessandro-strada/ppa 2>&1 > /dev/null\n",
        "!apt-get update -qq 2>&1 > /dev/null\n",
        "!apt-get -y install -qq google-drive-ocamlfuse fuse\n",
        "from google.colab import auth\n",
        "auth.authenticate_user()\n",
        "from oauth2client.client import GoogleCredentials\n",
        "creds = GoogleCredentials.get_application_default()\n",
        "import getpass\n",
        "!google-drive-ocamlfuse -headless -id={creds.client_id} -secret={creds.client_secret} < /dev/null 2>&1 | grep URL\n",
        "vcode = getpass.getpass()\n",
        "!echo {vcode} | google-drive-ocamlfuse -headless -id={creds.client_id} -secret={creds.client_secret}\n",
        "!mkdir -p /drive3\n",
        "!google-drive-ocamlfuse /drive3\n"
      ],
      "execution_count": null,
      "outputs": [
        {
          "output_type": "stream",
          "text": [
            "E: Package 'python-software-properties' has no installation candidate\n"
          ],
          "name": "stdout"
        },
        {
          "output_type": "error",
          "ename": "KeyboardInterrupt",
          "evalue": "ignored",
          "traceback": [
            "\u001b[0;31m---------------------------------------------------------------------------\u001b[0m",
            "\u001b[0;31mKeyboardInterrupt\u001b[0m                         Traceback (most recent call last)",
            "\u001b[0;32m/usr/local/lib/python3.6/dist-packages/ipykernel/kernelbase.py\u001b[0m in \u001b[0;36m_input_request\u001b[0;34m(self, prompt, ident, parent, password)\u001b[0m\n\u001b[1;32m    728\u001b[0m             \u001b[0;32mtry\u001b[0m\u001b[0;34m:\u001b[0m\u001b[0;34m\u001b[0m\u001b[0;34m\u001b[0m\u001b[0m\n\u001b[0;32m--> 729\u001b[0;31m                 \u001b[0mident\u001b[0m\u001b[0;34m,\u001b[0m \u001b[0mreply\u001b[0m \u001b[0;34m=\u001b[0m \u001b[0mself\u001b[0m\u001b[0;34m.\u001b[0m\u001b[0msession\u001b[0m\u001b[0;34m.\u001b[0m\u001b[0mrecv\u001b[0m\u001b[0;34m(\u001b[0m\u001b[0mself\u001b[0m\u001b[0;34m.\u001b[0m\u001b[0mstdin_socket\u001b[0m\u001b[0;34m,\u001b[0m \u001b[0;36m0\u001b[0m\u001b[0;34m)\u001b[0m\u001b[0;34m\u001b[0m\u001b[0;34m\u001b[0m\u001b[0m\n\u001b[0m\u001b[1;32m    730\u001b[0m             \u001b[0;32mexcept\u001b[0m \u001b[0mException\u001b[0m\u001b[0;34m:\u001b[0m\u001b[0;34m\u001b[0m\u001b[0;34m\u001b[0m\u001b[0m\n",
            "\u001b[0;32m/usr/local/lib/python3.6/dist-packages/jupyter_client/session.py\u001b[0m in \u001b[0;36mrecv\u001b[0;34m(self, socket, mode, content, copy)\u001b[0m\n\u001b[1;32m    802\u001b[0m         \u001b[0;32mtry\u001b[0m\u001b[0;34m:\u001b[0m\u001b[0;34m\u001b[0m\u001b[0;34m\u001b[0m\u001b[0m\n\u001b[0;32m--> 803\u001b[0;31m             \u001b[0mmsg_list\u001b[0m \u001b[0;34m=\u001b[0m \u001b[0msocket\u001b[0m\u001b[0;34m.\u001b[0m\u001b[0mrecv_multipart\u001b[0m\u001b[0;34m(\u001b[0m\u001b[0mmode\u001b[0m\u001b[0;34m,\u001b[0m \u001b[0mcopy\u001b[0m\u001b[0;34m=\u001b[0m\u001b[0mcopy\u001b[0m\u001b[0;34m)\u001b[0m\u001b[0;34m\u001b[0m\u001b[0;34m\u001b[0m\u001b[0m\n\u001b[0m\u001b[1;32m    804\u001b[0m         \u001b[0;32mexcept\u001b[0m \u001b[0mzmq\u001b[0m\u001b[0;34m.\u001b[0m\u001b[0mZMQError\u001b[0m \u001b[0;32mas\u001b[0m \u001b[0me\u001b[0m\u001b[0;34m:\u001b[0m\u001b[0;34m\u001b[0m\u001b[0;34m\u001b[0m\u001b[0m\n",
            "\u001b[0;32m/usr/local/lib/python3.6/dist-packages/zmq/sugar/socket.py\u001b[0m in \u001b[0;36mrecv_multipart\u001b[0;34m(self, flags, copy, track)\u001b[0m\n\u001b[1;32m    582\u001b[0m         \"\"\"\n\u001b[0;32m--> 583\u001b[0;31m         \u001b[0mparts\u001b[0m \u001b[0;34m=\u001b[0m \u001b[0;34m[\u001b[0m\u001b[0mself\u001b[0m\u001b[0;34m.\u001b[0m\u001b[0mrecv\u001b[0m\u001b[0;34m(\u001b[0m\u001b[0mflags\u001b[0m\u001b[0;34m,\u001b[0m \u001b[0mcopy\u001b[0m\u001b[0;34m=\u001b[0m\u001b[0mcopy\u001b[0m\u001b[0;34m,\u001b[0m \u001b[0mtrack\u001b[0m\u001b[0;34m=\u001b[0m\u001b[0mtrack\u001b[0m\u001b[0;34m)\u001b[0m\u001b[0;34m]\u001b[0m\u001b[0;34m\u001b[0m\u001b[0;34m\u001b[0m\u001b[0m\n\u001b[0m\u001b[1;32m    584\u001b[0m         \u001b[0;31m# have first part already, only loop while more to receive\u001b[0m\u001b[0;34m\u001b[0m\u001b[0;34m\u001b[0m\u001b[0;34m\u001b[0m\u001b[0m\n",
            "\u001b[0;32mzmq/backend/cython/socket.pyx\u001b[0m in \u001b[0;36mzmq.backend.cython.socket.Socket.recv\u001b[0;34m()\u001b[0m\n",
            "\u001b[0;32mzmq/backend/cython/socket.pyx\u001b[0m in \u001b[0;36mzmq.backend.cython.socket.Socket.recv\u001b[0;34m()\u001b[0m\n",
            "\u001b[0;32mzmq/backend/cython/socket.pyx\u001b[0m in \u001b[0;36mzmq.backend.cython.socket._recv_copy\u001b[0;34m()\u001b[0m\n",
            "\u001b[0;32m/usr/local/lib/python3.6/dist-packages/zmq/backend/cython/checkrc.pxd\u001b[0m in \u001b[0;36mzmq.backend.cython.checkrc._check_rc\u001b[0;34m()\u001b[0m\n",
            "\u001b[0;31mKeyboardInterrupt\u001b[0m: ",
            "\nDuring handling of the above exception, another exception occurred:\n",
            "\u001b[0;31mKeyboardInterrupt\u001b[0m                         Traceback (most recent call last)",
            "\u001b[0;32m<ipython-input-8-c51a513a9ea3>\u001b[0m in \u001b[0;36m<module>\u001b[0;34m()\u001b[0m\n\u001b[1;32m      9\u001b[0m \u001b[0;32mimport\u001b[0m \u001b[0mgetpass\u001b[0m\u001b[0;34m\u001b[0m\u001b[0;34m\u001b[0m\u001b[0m\n\u001b[1;32m     10\u001b[0m \u001b[0mget_ipython\u001b[0m\u001b[0;34m(\u001b[0m\u001b[0;34m)\u001b[0m\u001b[0;34m.\u001b[0m\u001b[0msystem\u001b[0m\u001b[0;34m(\u001b[0m\u001b[0;34m'google-drive-ocamlfuse -headless -id={creds.client_id} -secret={creds.client_secret} < /dev/null 2>&1 | grep URL'\u001b[0m\u001b[0;34m)\u001b[0m\u001b[0;34m\u001b[0m\u001b[0;34m\u001b[0m\u001b[0m\n\u001b[0;32m---> 11\u001b[0;31m \u001b[0mvcode\u001b[0m \u001b[0;34m=\u001b[0m \u001b[0mgetpass\u001b[0m\u001b[0;34m.\u001b[0m\u001b[0mgetpass\u001b[0m\u001b[0;34m(\u001b[0m\u001b[0;34m)\u001b[0m\u001b[0;34m\u001b[0m\u001b[0;34m\u001b[0m\u001b[0m\n\u001b[0m\u001b[1;32m     12\u001b[0m \u001b[0mget_ipython\u001b[0m\u001b[0;34m(\u001b[0m\u001b[0;34m)\u001b[0m\u001b[0;34m.\u001b[0m\u001b[0msystem\u001b[0m\u001b[0;34m(\u001b[0m\u001b[0;34m'echo {vcode} | google-drive-ocamlfuse -headless -id={creds.client_id} -secret={creds.client_secret}'\u001b[0m\u001b[0;34m)\u001b[0m\u001b[0;34m\u001b[0m\u001b[0;34m\u001b[0m\u001b[0m\n\u001b[1;32m     13\u001b[0m \u001b[0mget_ipython\u001b[0m\u001b[0;34m(\u001b[0m\u001b[0;34m)\u001b[0m\u001b[0;34m.\u001b[0m\u001b[0msystem\u001b[0m\u001b[0;34m(\u001b[0m\u001b[0;34m'mkdir -p /drive3'\u001b[0m\u001b[0;34m)\u001b[0m\u001b[0;34m\u001b[0m\u001b[0;34m\u001b[0m\u001b[0m\n",
            "\u001b[0;32m/usr/local/lib/python3.6/dist-packages/ipykernel/kernelbase.py\u001b[0m in \u001b[0;36mgetpass\u001b[0;34m(self, prompt, stream)\u001b[0m\n\u001b[1;32m    685\u001b[0m             \u001b[0mself\u001b[0m\u001b[0;34m.\u001b[0m\u001b[0m_parent_ident\u001b[0m\u001b[0;34m,\u001b[0m\u001b[0;34m\u001b[0m\u001b[0;34m\u001b[0m\u001b[0m\n\u001b[1;32m    686\u001b[0m             \u001b[0mself\u001b[0m\u001b[0;34m.\u001b[0m\u001b[0m_parent_header\u001b[0m\u001b[0;34m,\u001b[0m\u001b[0;34m\u001b[0m\u001b[0;34m\u001b[0m\u001b[0m\n\u001b[0;32m--> 687\u001b[0;31m             \u001b[0mpassword\u001b[0m\u001b[0;34m=\u001b[0m\u001b[0;32mTrue\u001b[0m\u001b[0;34m,\u001b[0m\u001b[0;34m\u001b[0m\u001b[0;34m\u001b[0m\u001b[0m\n\u001b[0m\u001b[1;32m    688\u001b[0m         )\n\u001b[1;32m    689\u001b[0m \u001b[0;34m\u001b[0m\u001b[0m\n",
            "\u001b[0;32m/usr/local/lib/python3.6/dist-packages/ipykernel/kernelbase.py\u001b[0m in \u001b[0;36m_input_request\u001b[0;34m(self, prompt, ident, parent, password)\u001b[0m\n\u001b[1;32m    732\u001b[0m             \u001b[0;32mexcept\u001b[0m \u001b[0mKeyboardInterrupt\u001b[0m\u001b[0;34m:\u001b[0m\u001b[0;34m\u001b[0m\u001b[0;34m\u001b[0m\u001b[0m\n\u001b[1;32m    733\u001b[0m                 \u001b[0;31m# re-raise KeyboardInterrupt, to truncate traceback\u001b[0m\u001b[0;34m\u001b[0m\u001b[0;34m\u001b[0m\u001b[0;34m\u001b[0m\u001b[0m\n\u001b[0;32m--> 734\u001b[0;31m                 \u001b[0;32mraise\u001b[0m \u001b[0mKeyboardInterrupt\u001b[0m\u001b[0;34m\u001b[0m\u001b[0;34m\u001b[0m\u001b[0m\n\u001b[0m\u001b[1;32m    735\u001b[0m             \u001b[0;32melse\u001b[0m\u001b[0;34m:\u001b[0m\u001b[0;34m\u001b[0m\u001b[0;34m\u001b[0m\u001b[0m\n\u001b[1;32m    736\u001b[0m                 \u001b[0;32mbreak\u001b[0m\u001b[0;34m\u001b[0m\u001b[0;34m\u001b[0m\u001b[0m\n",
            "\u001b[0;31mKeyboardInterrupt\u001b[0m: "
          ]
        }
      ]
    },
    {
      "cell_type": "code",
      "metadata": {
        "id": "VmV8qnDOPaZc",
        "colab": {
          "base_uri": "https://localhost:8080/",
          "height": 968
        },
        "outputId": "f9e13757-78b0-4af0-d274-5419368e5e21"
      },
      "source": [
        "#extracting\n",
        "from zipfile import ZipFile\n",
        "with ZipFile(\"/content/gdrive/MyDrive/data_depth_annotated.zip\") as f:\n",
        "    f.extractall()"
      ],
      "execution_count": 1,
      "outputs": [
        {
          "output_type": "stream",
          "text": [
            "ERROR:root:Internal Python error in the inspect module.\n",
            "Below is the traceback from this internal error.\n",
            "\n"
          ],
          "name": "stderr"
        },
        {
          "output_type": "stream",
          "text": [
            "Traceback (most recent call last):\n",
            "  File \"/usr/local/lib/python3.6/dist-packages/IPython/core/interactiveshell.py\", line 2882, in run_code\n",
            "    exec(code_obj, self.user_global_ns, self.user_ns)\n",
            "  File \"<ipython-input-1-c6b54af65489>\", line 4, in <module>\n",
            "    f.extractall()\n",
            "  File \"/usr/lib/python3.6/zipfile.py\", line 1524, in extractall\n",
            "    self._extract_member(zipinfo, path, pwd)\n",
            "  File \"/usr/lib/python3.6/zipfile.py\", line 1579, in _extract_member\n",
            "    shutil.copyfileobj(source, target)\n",
            "  File \"/usr/lib/python3.6/shutil.py\", line 79, in copyfileobj\n",
            "    buf = fsrc.read(length)\n",
            "  File \"/usr/lib/python3.6/zipfile.py\", line 872, in read\n",
            "    data = self._read1(n)\n",
            "  File \"/usr/lib/python3.6/zipfile.py\", line 940, in _read1\n",
            "    data += self._read2(n - len(data))\n",
            "  File \"/usr/lib/python3.6/zipfile.py\", line 972, in _read2\n",
            "    data = self._fileobj.read(n)\n",
            "  File \"/usr/lib/python3.6/zipfile.py\", line 729, in read\n",
            "    data = self._file.read(n)\n",
            "KeyboardInterrupt\n",
            "\n",
            "During handling of the above exception, another exception occurred:\n",
            "\n",
            "Traceback (most recent call last):\n",
            "  File \"/usr/local/lib/python3.6/dist-packages/IPython/core/interactiveshell.py\", line 1823, in showtraceback\n",
            "    stb = value._render_traceback_()\n",
            "AttributeError: 'KeyboardInterrupt' object has no attribute '_render_traceback_'\n",
            "\n",
            "During handling of the above exception, another exception occurred:\n",
            "\n",
            "Traceback (most recent call last):\n",
            "  File \"/usr/local/lib/python3.6/dist-packages/IPython/core/ultratb.py\", line 1132, in get_records\n",
            "    return _fixed_getinnerframes(etb, number_of_lines_of_context, tb_offset)\n",
            "  File \"/usr/local/lib/python3.6/dist-packages/IPython/core/ultratb.py\", line 313, in wrapped\n",
            "    return f(*args, **kwargs)\n",
            "  File \"/usr/local/lib/python3.6/dist-packages/IPython/core/ultratb.py\", line 358, in _fixed_getinnerframes\n",
            "    records = fix_frame_records_filenames(inspect.getinnerframes(etb, context))\n",
            "  File \"/usr/lib/python3.6/inspect.py\", line 1490, in getinnerframes\n",
            "    frameinfo = (tb.tb_frame,) + getframeinfo(tb, context)\n",
            "  File \"/usr/lib/python3.6/inspect.py\", line 1452, in getframeinfo\n",
            "    lines, lnum = findsource(frame)\n",
            "  File \"/usr/local/lib/python3.6/dist-packages/IPython/core/ultratb.py\", line 182, in findsource\n",
            "    lines = linecache.getlines(file, globals_dict)\n",
            "  File \"/usr/lib/python3.6/linecache.py\", line 47, in getlines\n",
            "    return updatecache(filename, module_globals)\n",
            "  File \"/usr/lib/python3.6/linecache.py\", line 137, in updatecache\n",
            "    lines = fp.readlines()\n",
            "  File \"/usr/lib/python3.6/codecs.py\", line 318, in decode\n",
            "    def decode(self, input, final=False):\n",
            "KeyboardInterrupt\n"
          ],
          "name": "stdout"
        },
        {
          "output_type": "error",
          "ename": "KeyboardInterrupt",
          "evalue": "ignored",
          "traceback": [
            "\u001b[0;31m---------------------------------------------------------------------------\u001b[0m"
          ]
        }
      ]
    },
    {
      "cell_type": "code",
      "metadata": {
        "id": "6kjzjglC4c4M"
      },
      "source": [
        "#extracting\n",
        "from zipfile import ZipFile\n",
        "with ZipFile(\"/content/gdrive/MyDrive/data_tracking_image_2.zip\") as f:\n",
        "    f.extractall()"
      ],
      "execution_count": null,
      "outputs": []
    },
    {
      "cell_type": "code",
      "metadata": {
        "id": "orCreYEx_E0j"
      },
      "source": [
        "import os\n",
        "import numpy as np\n",
        "frames_main = sorted(os.listdir('/content/2011_09_26/2011_09_26_drive_0001_sync/image_02/data'))\n",
        "i=0\n",
        "frames_list = []\n",
        "# for video_name in videos:\n",
        "#   list_frame = sorted(os.listdir('./training/image_02/%s'%video_name))\n",
        "#   frames_list.append(list_frame)\n",
        "  \n",
        "frames_main"
      ],
      "execution_count": null,
      "outputs": []
    },
    {
      "cell_type": "code",
      "metadata": {
        "id": "Gt9p4AX5ELB9"
      },
      "source": [
        "import os\n",
        "import numpy as np\n",
        "import pandas as pd\n",
        "frames_gt = sorted(os.listdir('/content/train/2011_09_26_drive_0001_sync/proj_depth/groundtruth/image_02'))\n",
        "i=0\n",
        "frames_list = []\n",
        "# for video_name in videos:\n",
        "#   list_frame = sorted(os.listdir('./training/image_02/%s'%video_name))\n",
        "#   frames_list.append(list_frame)\n",
        "  \n",
        "frames_gt"
      ],
      "execution_count": null,
      "outputs": []
    },
    {
      "cell_type": "code",
      "metadata": {
        "id": "Mb2fvQ8DFs0A"
      },
      "source": [
        "train_data_path = os.path.join('content','train')\n",
        "test_data_path = os.path.join('content','test')"
      ],
      "execution_count": 9,
      "outputs": []
    },
    {
      "cell_type": "code",
      "metadata": {
        "id": "iGs8XMUvGIit"
      },
      "source": [
        "if not os.path.exists('data_files'):\n",
        "  os.mkdir('data_files')\n",
        "if not os.path.exists('data_files/train'):\n",
        "  os.mkdir('data_files/train')\n",
        "if not os.path.exists('data_files/test'):\n",
        "  os.mkdir('data_files/test')\n"
      ],
      "execution_count": 10,
      "outputs": []
    },
    {
      "cell_type": "code",
      "metadata": {
        "colab": {
          "base_uri": "https://localhost:8080/"
        },
        "id": "YSqOZszKGb85",
        "outputId": "92a48f3d-82ef-4566-8bb0-883895b505b3"
      },
      "source": [
        "train_dir = \"/content/2011_09_26/\"\n",
        "data_dir_list = sorted(os.listdir(train_dir))\n",
        "\n",
        "for data_dir in data_dir_list:\n",
        "  video_dir = (data_dir+\"/image_02\")\n",
        "  ground_data_dir_list = sorted(os.listdir(\"/content/train/\"+data_dir+\"/proj_depth/groundtruth/image_02\"))\n",
        "  video_data_dir_list = sorted( os.listdir(train_dir+video_dir+\"/data\"))\n",
        "  train_df = pd.DataFrame(columns = ['ImagePath','GroundTruthPath','VideoNumber'])\n",
        "  \n",
        "  for img in video_data_dir_list: # looping over every frame within the video\n",
        "      img_path = os.path.join(train_dir,video_dir,\"data\",img)\n",
        "      gt_path = os.path.join(\"/content/train\",data_dir,\"proj_depth/groundtruth/image_02\",img)\n",
        "      print(img_path,gt_path)\n",
        "  #     test_df = test_df.append({'FileName': img_path, 'Label': label,'ClassName':data_dir },ignore_index=True)\n",
        "  # file_name='{}_{}.csv'.format(data_dir,vid)\n",
        "  # test_df.to_csv('data_files/test/{}'.format(file_name))\n",
        "  "
      ],
      "execution_count": 36,
      "outputs": [
        {
          "output_type": "stream",
          "text": [
            "/content/2011_09_26/2011_09_26_drive_0001_sync/image_02/data/0000000000.png /content/train/2011_09_26_drive_0001_sync/proj_depth/groundtruth/image_02/0000000000.png\n",
            "/content/2011_09_26/2011_09_26_drive_0001_sync/image_02/data/0000000001.png /content/train/2011_09_26_drive_0001_sync/proj_depth/groundtruth/image_02/0000000001.png\n",
            "/content/2011_09_26/2011_09_26_drive_0001_sync/image_02/data/0000000002.png /content/train/2011_09_26_drive_0001_sync/proj_depth/groundtruth/image_02/0000000002.png\n",
            "/content/2011_09_26/2011_09_26_drive_0001_sync/image_02/data/0000000003.png /content/train/2011_09_26_drive_0001_sync/proj_depth/groundtruth/image_02/0000000003.png\n",
            "/content/2011_09_26/2011_09_26_drive_0001_sync/image_02/data/0000000004.png /content/train/2011_09_26_drive_0001_sync/proj_depth/groundtruth/image_02/0000000004.png\n",
            "/content/2011_09_26/2011_09_26_drive_0001_sync/image_02/data/0000000005.png /content/train/2011_09_26_drive_0001_sync/proj_depth/groundtruth/image_02/0000000005.png\n",
            "/content/2011_09_26/2011_09_26_drive_0001_sync/image_02/data/0000000006.png /content/train/2011_09_26_drive_0001_sync/proj_depth/groundtruth/image_02/0000000006.png\n",
            "/content/2011_09_26/2011_09_26_drive_0001_sync/image_02/data/0000000007.png /content/train/2011_09_26_drive_0001_sync/proj_depth/groundtruth/image_02/0000000007.png\n",
            "/content/2011_09_26/2011_09_26_drive_0001_sync/image_02/data/0000000008.png /content/train/2011_09_26_drive_0001_sync/proj_depth/groundtruth/image_02/0000000008.png\n",
            "/content/2011_09_26/2011_09_26_drive_0001_sync/image_02/data/0000000009.png /content/train/2011_09_26_drive_0001_sync/proj_depth/groundtruth/image_02/0000000009.png\n",
            "/content/2011_09_26/2011_09_26_drive_0001_sync/image_02/data/0000000010.png /content/train/2011_09_26_drive_0001_sync/proj_depth/groundtruth/image_02/0000000010.png\n",
            "/content/2011_09_26/2011_09_26_drive_0001_sync/image_02/data/0000000011.png /content/train/2011_09_26_drive_0001_sync/proj_depth/groundtruth/image_02/0000000011.png\n",
            "/content/2011_09_26/2011_09_26_drive_0001_sync/image_02/data/0000000012.png /content/train/2011_09_26_drive_0001_sync/proj_depth/groundtruth/image_02/0000000012.png\n",
            "/content/2011_09_26/2011_09_26_drive_0001_sync/image_02/data/0000000013.png /content/train/2011_09_26_drive_0001_sync/proj_depth/groundtruth/image_02/0000000013.png\n",
            "/content/2011_09_26/2011_09_26_drive_0001_sync/image_02/data/0000000014.png /content/train/2011_09_26_drive_0001_sync/proj_depth/groundtruth/image_02/0000000014.png\n",
            "/content/2011_09_26/2011_09_26_drive_0001_sync/image_02/data/0000000015.png /content/train/2011_09_26_drive_0001_sync/proj_depth/groundtruth/image_02/0000000015.png\n",
            "/content/2011_09_26/2011_09_26_drive_0001_sync/image_02/data/0000000016.png /content/train/2011_09_26_drive_0001_sync/proj_depth/groundtruth/image_02/0000000016.png\n",
            "/content/2011_09_26/2011_09_26_drive_0001_sync/image_02/data/0000000017.png /content/train/2011_09_26_drive_0001_sync/proj_depth/groundtruth/image_02/0000000017.png\n",
            "/content/2011_09_26/2011_09_26_drive_0001_sync/image_02/data/0000000018.png /content/train/2011_09_26_drive_0001_sync/proj_depth/groundtruth/image_02/0000000018.png\n",
            "/content/2011_09_26/2011_09_26_drive_0001_sync/image_02/data/0000000019.png /content/train/2011_09_26_drive_0001_sync/proj_depth/groundtruth/image_02/0000000019.png\n",
            "/content/2011_09_26/2011_09_26_drive_0001_sync/image_02/data/0000000020.png /content/train/2011_09_26_drive_0001_sync/proj_depth/groundtruth/image_02/0000000020.png\n",
            "/content/2011_09_26/2011_09_26_drive_0001_sync/image_02/data/0000000021.png /content/train/2011_09_26_drive_0001_sync/proj_depth/groundtruth/image_02/0000000021.png\n",
            "/content/2011_09_26/2011_09_26_drive_0001_sync/image_02/data/0000000022.png /content/train/2011_09_26_drive_0001_sync/proj_depth/groundtruth/image_02/0000000022.png\n",
            "/content/2011_09_26/2011_09_26_drive_0001_sync/image_02/data/0000000023.png /content/train/2011_09_26_drive_0001_sync/proj_depth/groundtruth/image_02/0000000023.png\n",
            "/content/2011_09_26/2011_09_26_drive_0001_sync/image_02/data/0000000024.png /content/train/2011_09_26_drive_0001_sync/proj_depth/groundtruth/image_02/0000000024.png\n",
            "/content/2011_09_26/2011_09_26_drive_0001_sync/image_02/data/0000000025.png /content/train/2011_09_26_drive_0001_sync/proj_depth/groundtruth/image_02/0000000025.png\n",
            "/content/2011_09_26/2011_09_26_drive_0001_sync/image_02/data/0000000026.png /content/train/2011_09_26_drive_0001_sync/proj_depth/groundtruth/image_02/0000000026.png\n",
            "/content/2011_09_26/2011_09_26_drive_0001_sync/image_02/data/0000000027.png /content/train/2011_09_26_drive_0001_sync/proj_depth/groundtruth/image_02/0000000027.png\n",
            "/content/2011_09_26/2011_09_26_drive_0001_sync/image_02/data/0000000028.png /content/train/2011_09_26_drive_0001_sync/proj_depth/groundtruth/image_02/0000000028.png\n",
            "/content/2011_09_26/2011_09_26_drive_0001_sync/image_02/data/0000000029.png /content/train/2011_09_26_drive_0001_sync/proj_depth/groundtruth/image_02/0000000029.png\n",
            "/content/2011_09_26/2011_09_26_drive_0001_sync/image_02/data/0000000030.png /content/train/2011_09_26_drive_0001_sync/proj_depth/groundtruth/image_02/0000000030.png\n",
            "/content/2011_09_26/2011_09_26_drive_0001_sync/image_02/data/0000000031.png /content/train/2011_09_26_drive_0001_sync/proj_depth/groundtruth/image_02/0000000031.png\n",
            "/content/2011_09_26/2011_09_26_drive_0001_sync/image_02/data/0000000032.png /content/train/2011_09_26_drive_0001_sync/proj_depth/groundtruth/image_02/0000000032.png\n",
            "/content/2011_09_26/2011_09_26_drive_0001_sync/image_02/data/0000000033.png /content/train/2011_09_26_drive_0001_sync/proj_depth/groundtruth/image_02/0000000033.png\n",
            "/content/2011_09_26/2011_09_26_drive_0001_sync/image_02/data/0000000034.png /content/train/2011_09_26_drive_0001_sync/proj_depth/groundtruth/image_02/0000000034.png\n",
            "/content/2011_09_26/2011_09_26_drive_0001_sync/image_02/data/0000000035.png /content/train/2011_09_26_drive_0001_sync/proj_depth/groundtruth/image_02/0000000035.png\n",
            "/content/2011_09_26/2011_09_26_drive_0001_sync/image_02/data/0000000036.png /content/train/2011_09_26_drive_0001_sync/proj_depth/groundtruth/image_02/0000000036.png\n",
            "/content/2011_09_26/2011_09_26_drive_0001_sync/image_02/data/0000000037.png /content/train/2011_09_26_drive_0001_sync/proj_depth/groundtruth/image_02/0000000037.png\n",
            "/content/2011_09_26/2011_09_26_drive_0001_sync/image_02/data/0000000038.png /content/train/2011_09_26_drive_0001_sync/proj_depth/groundtruth/image_02/0000000038.png\n",
            "/content/2011_09_26/2011_09_26_drive_0001_sync/image_02/data/0000000039.png /content/train/2011_09_26_drive_0001_sync/proj_depth/groundtruth/image_02/0000000039.png\n",
            "/content/2011_09_26/2011_09_26_drive_0001_sync/image_02/data/0000000040.png /content/train/2011_09_26_drive_0001_sync/proj_depth/groundtruth/image_02/0000000040.png\n",
            "/content/2011_09_26/2011_09_26_drive_0001_sync/image_02/data/0000000041.png /content/train/2011_09_26_drive_0001_sync/proj_depth/groundtruth/image_02/0000000041.png\n",
            "/content/2011_09_26/2011_09_26_drive_0001_sync/image_02/data/0000000042.png /content/train/2011_09_26_drive_0001_sync/proj_depth/groundtruth/image_02/0000000042.png\n",
            "/content/2011_09_26/2011_09_26_drive_0001_sync/image_02/data/0000000043.png /content/train/2011_09_26_drive_0001_sync/proj_depth/groundtruth/image_02/0000000043.png\n",
            "/content/2011_09_26/2011_09_26_drive_0001_sync/image_02/data/0000000044.png /content/train/2011_09_26_drive_0001_sync/proj_depth/groundtruth/image_02/0000000044.png\n",
            "/content/2011_09_26/2011_09_26_drive_0001_sync/image_02/data/0000000045.png /content/train/2011_09_26_drive_0001_sync/proj_depth/groundtruth/image_02/0000000045.png\n",
            "/content/2011_09_26/2011_09_26_drive_0001_sync/image_02/data/0000000046.png /content/train/2011_09_26_drive_0001_sync/proj_depth/groundtruth/image_02/0000000046.png\n",
            "/content/2011_09_26/2011_09_26_drive_0001_sync/image_02/data/0000000047.png /content/train/2011_09_26_drive_0001_sync/proj_depth/groundtruth/image_02/0000000047.png\n",
            "/content/2011_09_26/2011_09_26_drive_0001_sync/image_02/data/0000000048.png /content/train/2011_09_26_drive_0001_sync/proj_depth/groundtruth/image_02/0000000048.png\n",
            "/content/2011_09_26/2011_09_26_drive_0001_sync/image_02/data/0000000049.png /content/train/2011_09_26_drive_0001_sync/proj_depth/groundtruth/image_02/0000000049.png\n",
            "/content/2011_09_26/2011_09_26_drive_0001_sync/image_02/data/0000000050.png /content/train/2011_09_26_drive_0001_sync/proj_depth/groundtruth/image_02/0000000050.png\n",
            "/content/2011_09_26/2011_09_26_drive_0001_sync/image_02/data/0000000051.png /content/train/2011_09_26_drive_0001_sync/proj_depth/groundtruth/image_02/0000000051.png\n",
            "/content/2011_09_26/2011_09_26_drive_0001_sync/image_02/data/0000000052.png /content/train/2011_09_26_drive_0001_sync/proj_depth/groundtruth/image_02/0000000052.png\n",
            "/content/2011_09_26/2011_09_26_drive_0001_sync/image_02/data/0000000053.png /content/train/2011_09_26_drive_0001_sync/proj_depth/groundtruth/image_02/0000000053.png\n",
            "/content/2011_09_26/2011_09_26_drive_0001_sync/image_02/data/0000000054.png /content/train/2011_09_26_drive_0001_sync/proj_depth/groundtruth/image_02/0000000054.png\n",
            "/content/2011_09_26/2011_09_26_drive_0001_sync/image_02/data/0000000055.png /content/train/2011_09_26_drive_0001_sync/proj_depth/groundtruth/image_02/0000000055.png\n",
            "/content/2011_09_26/2011_09_26_drive_0001_sync/image_02/data/0000000056.png /content/train/2011_09_26_drive_0001_sync/proj_depth/groundtruth/image_02/0000000056.png\n",
            "/content/2011_09_26/2011_09_26_drive_0001_sync/image_02/data/0000000057.png /content/train/2011_09_26_drive_0001_sync/proj_depth/groundtruth/image_02/0000000057.png\n",
            "/content/2011_09_26/2011_09_26_drive_0001_sync/image_02/data/0000000058.png /content/train/2011_09_26_drive_0001_sync/proj_depth/groundtruth/image_02/0000000058.png\n",
            "/content/2011_09_26/2011_09_26_drive_0001_sync/image_02/data/0000000059.png /content/train/2011_09_26_drive_0001_sync/proj_depth/groundtruth/image_02/0000000059.png\n",
            "/content/2011_09_26/2011_09_26_drive_0001_sync/image_02/data/0000000060.png /content/train/2011_09_26_drive_0001_sync/proj_depth/groundtruth/image_02/0000000060.png\n",
            "/content/2011_09_26/2011_09_26_drive_0001_sync/image_02/data/0000000061.png /content/train/2011_09_26_drive_0001_sync/proj_depth/groundtruth/image_02/0000000061.png\n",
            "/content/2011_09_26/2011_09_26_drive_0001_sync/image_02/data/0000000062.png /content/train/2011_09_26_drive_0001_sync/proj_depth/groundtruth/image_02/0000000062.png\n",
            "/content/2011_09_26/2011_09_26_drive_0001_sync/image_02/data/0000000063.png /content/train/2011_09_26_drive_0001_sync/proj_depth/groundtruth/image_02/0000000063.png\n",
            "/content/2011_09_26/2011_09_26_drive_0001_sync/image_02/data/0000000064.png /content/train/2011_09_26_drive_0001_sync/proj_depth/groundtruth/image_02/0000000064.png\n",
            "/content/2011_09_26/2011_09_26_drive_0001_sync/image_02/data/0000000065.png /content/train/2011_09_26_drive_0001_sync/proj_depth/groundtruth/image_02/0000000065.png\n",
            "/content/2011_09_26/2011_09_26_drive_0001_sync/image_02/data/0000000066.png /content/train/2011_09_26_drive_0001_sync/proj_depth/groundtruth/image_02/0000000066.png\n",
            "/content/2011_09_26/2011_09_26_drive_0001_sync/image_02/data/0000000067.png /content/train/2011_09_26_drive_0001_sync/proj_depth/groundtruth/image_02/0000000067.png\n",
            "/content/2011_09_26/2011_09_26_drive_0001_sync/image_02/data/0000000068.png /content/train/2011_09_26_drive_0001_sync/proj_depth/groundtruth/image_02/0000000068.png\n",
            "/content/2011_09_26/2011_09_26_drive_0001_sync/image_02/data/0000000069.png /content/train/2011_09_26_drive_0001_sync/proj_depth/groundtruth/image_02/0000000069.png\n",
            "/content/2011_09_26/2011_09_26_drive_0001_sync/image_02/data/0000000070.png /content/train/2011_09_26_drive_0001_sync/proj_depth/groundtruth/image_02/0000000070.png\n",
            "/content/2011_09_26/2011_09_26_drive_0001_sync/image_02/data/0000000071.png /content/train/2011_09_26_drive_0001_sync/proj_depth/groundtruth/image_02/0000000071.png\n",
            "/content/2011_09_26/2011_09_26_drive_0001_sync/image_02/data/0000000072.png /content/train/2011_09_26_drive_0001_sync/proj_depth/groundtruth/image_02/0000000072.png\n",
            "/content/2011_09_26/2011_09_26_drive_0001_sync/image_02/data/0000000073.png /content/train/2011_09_26_drive_0001_sync/proj_depth/groundtruth/image_02/0000000073.png\n",
            "/content/2011_09_26/2011_09_26_drive_0001_sync/image_02/data/0000000074.png /content/train/2011_09_26_drive_0001_sync/proj_depth/groundtruth/image_02/0000000074.png\n",
            "/content/2011_09_26/2011_09_26_drive_0001_sync/image_02/data/0000000075.png /content/train/2011_09_26_drive_0001_sync/proj_depth/groundtruth/image_02/0000000075.png\n",
            "/content/2011_09_26/2011_09_26_drive_0001_sync/image_02/data/0000000076.png /content/train/2011_09_26_drive_0001_sync/proj_depth/groundtruth/image_02/0000000076.png\n",
            "/content/2011_09_26/2011_09_26_drive_0001_sync/image_02/data/0000000077.png /content/train/2011_09_26_drive_0001_sync/proj_depth/groundtruth/image_02/0000000077.png\n",
            "/content/2011_09_26/2011_09_26_drive_0001_sync/image_02/data/0000000078.png /content/train/2011_09_26_drive_0001_sync/proj_depth/groundtruth/image_02/0000000078.png\n",
            "/content/2011_09_26/2011_09_26_drive_0001_sync/image_02/data/0000000079.png /content/train/2011_09_26_drive_0001_sync/proj_depth/groundtruth/image_02/0000000079.png\n",
            "/content/2011_09_26/2011_09_26_drive_0001_sync/image_02/data/0000000080.png /content/train/2011_09_26_drive_0001_sync/proj_depth/groundtruth/image_02/0000000080.png\n",
            "/content/2011_09_26/2011_09_26_drive_0001_sync/image_02/data/0000000081.png /content/train/2011_09_26_drive_0001_sync/proj_depth/groundtruth/image_02/0000000081.png\n",
            "/content/2011_09_26/2011_09_26_drive_0001_sync/image_02/data/0000000082.png /content/train/2011_09_26_drive_0001_sync/proj_depth/groundtruth/image_02/0000000082.png\n",
            "/content/2011_09_26/2011_09_26_drive_0001_sync/image_02/data/0000000083.png /content/train/2011_09_26_drive_0001_sync/proj_depth/groundtruth/image_02/0000000083.png\n",
            "/content/2011_09_26/2011_09_26_drive_0001_sync/image_02/data/0000000084.png /content/train/2011_09_26_drive_0001_sync/proj_depth/groundtruth/image_02/0000000084.png\n",
            "/content/2011_09_26/2011_09_26_drive_0001_sync/image_02/data/0000000085.png /content/train/2011_09_26_drive_0001_sync/proj_depth/groundtruth/image_02/0000000085.png\n",
            "/content/2011_09_26/2011_09_26_drive_0001_sync/image_02/data/0000000086.png /content/train/2011_09_26_drive_0001_sync/proj_depth/groundtruth/image_02/0000000086.png\n",
            "/content/2011_09_26/2011_09_26_drive_0001_sync/image_02/data/0000000087.png /content/train/2011_09_26_drive_0001_sync/proj_depth/groundtruth/image_02/0000000087.png\n",
            "/content/2011_09_26/2011_09_26_drive_0001_sync/image_02/data/0000000088.png /content/train/2011_09_26_drive_0001_sync/proj_depth/groundtruth/image_02/0000000088.png\n",
            "/content/2011_09_26/2011_09_26_drive_0001_sync/image_02/data/0000000089.png /content/train/2011_09_26_drive_0001_sync/proj_depth/groundtruth/image_02/0000000089.png\n",
            "/content/2011_09_26/2011_09_26_drive_0001_sync/image_02/data/0000000090.png /content/train/2011_09_26_drive_0001_sync/proj_depth/groundtruth/image_02/0000000090.png\n",
            "/content/2011_09_26/2011_09_26_drive_0001_sync/image_02/data/0000000091.png /content/train/2011_09_26_drive_0001_sync/proj_depth/groundtruth/image_02/0000000091.png\n",
            "/content/2011_09_26/2011_09_26_drive_0001_sync/image_02/data/0000000092.png /content/train/2011_09_26_drive_0001_sync/proj_depth/groundtruth/image_02/0000000092.png\n",
            "/content/2011_09_26/2011_09_26_drive_0001_sync/image_02/data/0000000093.png /content/train/2011_09_26_drive_0001_sync/proj_depth/groundtruth/image_02/0000000093.png\n",
            "/content/2011_09_26/2011_09_26_drive_0001_sync/image_02/data/0000000094.png /content/train/2011_09_26_drive_0001_sync/proj_depth/groundtruth/image_02/0000000094.png\n",
            "/content/2011_09_26/2011_09_26_drive_0001_sync/image_02/data/0000000095.png /content/train/2011_09_26_drive_0001_sync/proj_depth/groundtruth/image_02/0000000095.png\n",
            "/content/2011_09_26/2011_09_26_drive_0001_sync/image_02/data/0000000096.png /content/train/2011_09_26_drive_0001_sync/proj_depth/groundtruth/image_02/0000000096.png\n",
            "/content/2011_09_26/2011_09_26_drive_0001_sync/image_02/data/0000000097.png /content/train/2011_09_26_drive_0001_sync/proj_depth/groundtruth/image_02/0000000097.png\n",
            "/content/2011_09_26/2011_09_26_drive_0001_sync/image_02/data/0000000098.png /content/train/2011_09_26_drive_0001_sync/proj_depth/groundtruth/image_02/0000000098.png\n",
            "/content/2011_09_26/2011_09_26_drive_0001_sync/image_02/data/0000000099.png /content/train/2011_09_26_drive_0001_sync/proj_depth/groundtruth/image_02/0000000099.png\n",
            "/content/2011_09_26/2011_09_26_drive_0001_sync/image_02/data/0000000100.png /content/train/2011_09_26_drive_0001_sync/proj_depth/groundtruth/image_02/0000000100.png\n",
            "/content/2011_09_26/2011_09_26_drive_0001_sync/image_02/data/0000000101.png /content/train/2011_09_26_drive_0001_sync/proj_depth/groundtruth/image_02/0000000101.png\n",
            "/content/2011_09_26/2011_09_26_drive_0001_sync/image_02/data/0000000102.png /content/train/2011_09_26_drive_0001_sync/proj_depth/groundtruth/image_02/0000000102.png\n",
            "/content/2011_09_26/2011_09_26_drive_0001_sync/image_02/data/0000000103.png /content/train/2011_09_26_drive_0001_sync/proj_depth/groundtruth/image_02/0000000103.png\n",
            "/content/2011_09_26/2011_09_26_drive_0001_sync/image_02/data/0000000104.png /content/train/2011_09_26_drive_0001_sync/proj_depth/groundtruth/image_02/0000000104.png\n",
            "/content/2011_09_26/2011_09_26_drive_0001_sync/image_02/data/0000000105.png /content/train/2011_09_26_drive_0001_sync/proj_depth/groundtruth/image_02/0000000105.png\n",
            "/content/2011_09_26/2011_09_26_drive_0001_sync/image_02/data/0000000106.png /content/train/2011_09_26_drive_0001_sync/proj_depth/groundtruth/image_02/0000000106.png\n",
            "/content/2011_09_26/2011_09_26_drive_0001_sync/image_02/data/0000000107.png /content/train/2011_09_26_drive_0001_sync/proj_depth/groundtruth/image_02/0000000107.png\n"
          ],
          "name": "stdout"
        }
      ]
    },
    {
      "cell_type": "code",
      "metadata": {
        "id": "S3Tgs7FDG83Q"
      },
      "source": [
        ""
      ],
      "execution_count": null,
      "outputs": []
    }
  ]
}